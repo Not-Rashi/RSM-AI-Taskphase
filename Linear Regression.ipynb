{
  "metadata": {
    "language_info": {
      "codemirror_mode": {
        "name": "python",
        "version": 3
      },
      "file_extension": ".py",
      "mimetype": "text/x-python",
      "name": "python",
      "nbconvert_exporter": "python",
      "pygments_lexer": "ipython3",
      "version": "3.8"
    },
    "kernelspec": {
      "name": "python",
      "display_name": "Python (Pyodide)",
      "language": "python"
    }
  },
  "nbformat_minor": 4,
  "nbformat": 4,
  "cells": [
    {
      "cell_type": "code",
      "source": "import pandas as pd\nimport numpy as np\ndf=pd.read_csv('Housing[1].csv')\nprint(df.shape)\ndf",
      "metadata": {
        "trusted": true
      },
      "execution_count": 1,
      "outputs": [
        {
          "name": "stdout",
          "text": "(545, 13)\n",
          "output_type": "stream"
        },
        {
          "execution_count": 1,
          "output_type": "execute_result",
          "data": {
            "text/plain": "        price  area  bedrooms  bathrooms  stories mainroad guestroom basement  \\\n0    13300000  7420         4          2        3      yes        no       no   \n1    12250000  8960         4          4        4      yes        no       no   \n2    12250000  9960         3          2        2      yes        no      yes   \n3    12215000  7500         4          2        2      yes        no      yes   \n4    11410000  7420         4          1        2      yes       yes      yes   \n..        ...   ...       ...        ...      ...      ...       ...      ...   \n540   1820000  3000         2          1        1      yes        no      yes   \n541   1767150  2400         3          1        1       no        no       no   \n542   1750000  3620         2          1        1      yes        no       no   \n543   1750000  2910         3          1        1       no        no       no   \n544   1750000  3850         3          1        2      yes        no       no   \n\n    hotwaterheating airconditioning  parking prefarea furnishingstatus  \n0                no             yes        2      yes        furnished  \n1                no             yes        3       no        furnished  \n2                no              no        2      yes   semi-furnished  \n3                no             yes        3      yes        furnished  \n4                no             yes        2       no        furnished  \n..              ...             ...      ...      ...              ...  \n540              no              no        2       no      unfurnished  \n541              no              no        0       no   semi-furnished  \n542              no              no        0       no      unfurnished  \n543              no              no        0       no        furnished  \n544              no              no        0       no      unfurnished  \n\n[545 rows x 13 columns]",
            "text/html": "<div>\n<style scoped>\n    .dataframe tbody tr th:only-of-type {\n        vertical-align: middle;\n    }\n\n    .dataframe tbody tr th {\n        vertical-align: top;\n    }\n\n    .dataframe thead th {\n        text-align: right;\n    }\n</style>\n<table border=\"1\" class=\"dataframe\">\n  <thead>\n    <tr style=\"text-align: right;\">\n      <th></th>\n      <th>price</th>\n      <th>area</th>\n      <th>bedrooms</th>\n      <th>bathrooms</th>\n      <th>stories</th>\n      <th>mainroad</th>\n      <th>guestroom</th>\n      <th>basement</th>\n      <th>hotwaterheating</th>\n      <th>airconditioning</th>\n      <th>parking</th>\n      <th>prefarea</th>\n      <th>furnishingstatus</th>\n    </tr>\n  </thead>\n  <tbody>\n    <tr>\n      <th>0</th>\n      <td>13300000</td>\n      <td>7420</td>\n      <td>4</td>\n      <td>2</td>\n      <td>3</td>\n      <td>yes</td>\n      <td>no</td>\n      <td>no</td>\n      <td>no</td>\n      <td>yes</td>\n      <td>2</td>\n      <td>yes</td>\n      <td>furnished</td>\n    </tr>\n    <tr>\n      <th>1</th>\n      <td>12250000</td>\n      <td>8960</td>\n      <td>4</td>\n      <td>4</td>\n      <td>4</td>\n      <td>yes</td>\n      <td>no</td>\n      <td>no</td>\n      <td>no</td>\n      <td>yes</td>\n      <td>3</td>\n      <td>no</td>\n      <td>furnished</td>\n    </tr>\n    <tr>\n      <th>2</th>\n      <td>12250000</td>\n      <td>9960</td>\n      <td>3</td>\n      <td>2</td>\n      <td>2</td>\n      <td>yes</td>\n      <td>no</td>\n      <td>yes</td>\n      <td>no</td>\n      <td>no</td>\n      <td>2</td>\n      <td>yes</td>\n      <td>semi-furnished</td>\n    </tr>\n    <tr>\n      <th>3</th>\n      <td>12215000</td>\n      <td>7500</td>\n      <td>4</td>\n      <td>2</td>\n      <td>2</td>\n      <td>yes</td>\n      <td>no</td>\n      <td>yes</td>\n      <td>no</td>\n      <td>yes</td>\n      <td>3</td>\n      <td>yes</td>\n      <td>furnished</td>\n    </tr>\n    <tr>\n      <th>4</th>\n      <td>11410000</td>\n      <td>7420</td>\n      <td>4</td>\n      <td>1</td>\n      <td>2</td>\n      <td>yes</td>\n      <td>yes</td>\n      <td>yes</td>\n      <td>no</td>\n      <td>yes</td>\n      <td>2</td>\n      <td>no</td>\n      <td>furnished</td>\n    </tr>\n    <tr>\n      <th>...</th>\n      <td>...</td>\n      <td>...</td>\n      <td>...</td>\n      <td>...</td>\n      <td>...</td>\n      <td>...</td>\n      <td>...</td>\n      <td>...</td>\n      <td>...</td>\n      <td>...</td>\n      <td>...</td>\n      <td>...</td>\n      <td>...</td>\n    </tr>\n    <tr>\n      <th>540</th>\n      <td>1820000</td>\n      <td>3000</td>\n      <td>2</td>\n      <td>1</td>\n      <td>1</td>\n      <td>yes</td>\n      <td>no</td>\n      <td>yes</td>\n      <td>no</td>\n      <td>no</td>\n      <td>2</td>\n      <td>no</td>\n      <td>unfurnished</td>\n    </tr>\n    <tr>\n      <th>541</th>\n      <td>1767150</td>\n      <td>2400</td>\n      <td>3</td>\n      <td>1</td>\n      <td>1</td>\n      <td>no</td>\n      <td>no</td>\n      <td>no</td>\n      <td>no</td>\n      <td>no</td>\n      <td>0</td>\n      <td>no</td>\n      <td>semi-furnished</td>\n    </tr>\n    <tr>\n      <th>542</th>\n      <td>1750000</td>\n      <td>3620</td>\n      <td>2</td>\n      <td>1</td>\n      <td>1</td>\n      <td>yes</td>\n      <td>no</td>\n      <td>no</td>\n      <td>no</td>\n      <td>no</td>\n      <td>0</td>\n      <td>no</td>\n      <td>unfurnished</td>\n    </tr>\n    <tr>\n      <th>543</th>\n      <td>1750000</td>\n      <td>2910</td>\n      <td>3</td>\n      <td>1</td>\n      <td>1</td>\n      <td>no</td>\n      <td>no</td>\n      <td>no</td>\n      <td>no</td>\n      <td>no</td>\n      <td>0</td>\n      <td>no</td>\n      <td>furnished</td>\n    </tr>\n    <tr>\n      <th>544</th>\n      <td>1750000</td>\n      <td>3850</td>\n      <td>3</td>\n      <td>1</td>\n      <td>2</td>\n      <td>yes</td>\n      <td>no</td>\n      <td>no</td>\n      <td>no</td>\n      <td>no</td>\n      <td>0</td>\n      <td>no</td>\n      <td>unfurnished</td>\n    </tr>\n  </tbody>\n</table>\n<p>545 rows × 13 columns</p>\n</div>"
          },
          "metadata": {}
        }
      ]
    },
    {
      "cell_type": "code",
      "source": "df.replace('yes',1, inplace=True)\ndf.replace('no',0, inplace=True)\ndf.replace('furnished',1,inplace=True)\ndf.replace('unfurnished',0,inplace=True)\ndf.replace('semi-furnished',0.5, inplace=True)\nprint(df)\n(df.corr()['price']).sort_values()",
      "metadata": {
        "trusted": true
      },
      "execution_count": 2,
      "outputs": [
        {
          "name": "stdout",
          "text": "        price  area  bedrooms  bathrooms  stories  mainroad  guestroom  \\\n0    13300000  7420         4          2        3         1          0   \n1    12250000  8960         4          4        4         1          0   \n2    12250000  9960         3          2        2         1          0   \n3    12215000  7500         4          2        2         1          0   \n4    11410000  7420         4          1        2         1          1   \n..        ...   ...       ...        ...      ...       ...        ...   \n540   1820000  3000         2          1        1         1          0   \n541   1767150  2400         3          1        1         0          0   \n542   1750000  3620         2          1        1         1          0   \n543   1750000  2910         3          1        1         0          0   \n544   1750000  3850         3          1        2         1          0   \n\n     basement  hotwaterheating  airconditioning  parking  prefarea  \\\n0           0                0                1        2         1   \n1           0                0                1        3         0   \n2           1                0                0        2         1   \n3           1                0                1        3         1   \n4           1                0                1        2         0   \n..        ...              ...              ...      ...       ...   \n540         1                0                0        2         0   \n541         0                0                0        0         0   \n542         0                0                0        0         0   \n543         0                0                0        0         0   \n544         0                0                0        0         0   \n\n     furnishingstatus  \n0                 1.0  \n1                 1.0  \n2                 0.5  \n3                 1.0  \n4                 1.0  \n..                ...  \n540               0.0  \n541               0.5  \n542               0.0  \n543               1.0  \n544               0.0  \n\n[545 rows x 13 columns]\n",
          "output_type": "stream"
        },
        {
          "execution_count": 2,
          "output_type": "execute_result",
          "data": {
            "text/plain": "hotwaterheating     0.093073\nbasement            0.187057\nguestroom           0.255517\nmainroad            0.296898\nfurnishingstatus    0.304721\nprefarea            0.329777\nbedrooms            0.366494\nparking             0.384394\nstories             0.420712\nairconditioning     0.452954\nbathrooms           0.517545\narea                0.535997\nprice               1.000000\nName: price, dtype: float64"
          },
          "metadata": {}
        }
      ]
    },
    {
      "cell_type": "code",
      "source": "y=df['price']\ndf.drop(['price'],axis=1,inplace=True)\nx=df\nprint(x)\nprint(y)",
      "metadata": {
        "trusted": true
      },
      "execution_count": 3,
      "outputs": [
        {
          "name": "stdout",
          "text": "     area  bedrooms  bathrooms  stories  mainroad  guestroom  basement  \\\n0    7420         4          2        3         1          0         0   \n1    8960         4          4        4         1          0         0   \n2    9960         3          2        2         1          0         1   \n3    7500         4          2        2         1          0         1   \n4    7420         4          1        2         1          1         1   \n..    ...       ...        ...      ...       ...        ...       ...   \n540  3000         2          1        1         1          0         1   \n541  2400         3          1        1         0          0         0   \n542  3620         2          1        1         1          0         0   \n543  2910         3          1        1         0          0         0   \n544  3850         3          1        2         1          0         0   \n\n     hotwaterheating  airconditioning  parking  prefarea  furnishingstatus  \n0                  0                1        2         1               1.0  \n1                  0                1        3         0               1.0  \n2                  0                0        2         1               0.5  \n3                  0                1        3         1               1.0  \n4                  0                1        2         0               1.0  \n..               ...              ...      ...       ...               ...  \n540                0                0        2         0               0.0  \n541                0                0        0         0               0.5  \n542                0                0        0         0               0.0  \n543                0                0        0         0               1.0  \n544                0                0        0         0               0.0  \n\n[545 rows x 12 columns]\n0      13300000\n1      12250000\n2      12250000\n3      12215000\n4      11410000\n         ...   \n540     1820000\n541     1767150\n542     1750000\n543     1750000\n544     1750000\nName: price, Length: 545, dtype: int64\n",
          "output_type": "stream"
        }
      ]
    },
    {
      "cell_type": "code",
      "source": "mn=y.min()\nmx=y.max()\ny=(y-mn)/(mx-mn)\ny",
      "metadata": {
        "trusted": true
      },
      "execution_count": 4,
      "outputs": [
        {
          "execution_count": 4,
          "output_type": "execute_result",
          "data": {
            "text/plain": "0      1.000000\n1      0.909091\n2      0.909091\n3      0.906061\n4      0.836364\n         ...   \n540    0.006061\n541    0.001485\n542    0.000000\n543    0.000000\n544    0.000000\nName: price, Length: 545, dtype: float64"
          },
          "metadata": {}
        }
      ]
    },
    {
      "cell_type": "code",
      "source": "print(mn,mx)",
      "metadata": {
        "trusted": true
      },
      "execution_count": 5,
      "outputs": [
        {
          "name": "stdout",
          "text": "1750000 13300000\n",
          "output_type": "stream"
        }
      ]
    },
    {
      "cell_type": "code",
      "source": "for i in range(12):\n    mn=x.iloc[:,i].min()\n    mx=x.iloc[:,i].max()\n    x.iloc[:,i]=(x.iloc[:,i]-mn)/(mx-mn)\nx",
      "metadata": {
        "trusted": true
      },
      "execution_count": 10,
      "outputs": [
        {
          "execution_count": 10,
          "output_type": "execute_result",
          "data": {
            "text/plain": "         area  bedrooms  bathrooms   stories  mainroad  guestroom  basement  \\\n0    0.396564       0.6   0.333333  0.666667       1.0        0.0       0.0   \n1    0.502405       0.6   1.000000  1.000000       1.0        0.0       0.0   \n2    0.571134       0.4   0.333333  0.333333       1.0        0.0       1.0   \n3    0.402062       0.6   0.333333  0.333333       1.0        0.0       1.0   \n4    0.396564       0.6   0.000000  0.333333       1.0        1.0       1.0   \n..        ...       ...        ...       ...       ...        ...       ...   \n540  0.092784       0.2   0.000000  0.000000       1.0        0.0       1.0   \n541  0.051546       0.4   0.000000  0.000000       0.0        0.0       0.0   \n542  0.135395       0.2   0.000000  0.000000       1.0        0.0       0.0   \n543  0.086598       0.4   0.000000  0.000000       0.0        0.0       0.0   \n544  0.151203       0.4   0.000000  0.333333       1.0        0.0       0.0   \n\n     hotwaterheating  airconditioning   parking  prefarea  furnishingstatus  \n0                0.0              1.0  0.666667       1.0               1.0  \n1                0.0              1.0  1.000000       0.0               1.0  \n2                0.0              0.0  0.666667       1.0               0.5  \n3                0.0              1.0  1.000000       1.0               1.0  \n4                0.0              1.0  0.666667       0.0               1.0  \n..               ...              ...       ...       ...               ...  \n540              0.0              0.0  0.666667       0.0               0.0  \n541              0.0              0.0  0.000000       0.0               0.5  \n542              0.0              0.0  0.000000       0.0               0.0  \n543              0.0              0.0  0.000000       0.0               1.0  \n544              0.0              0.0  0.000000       0.0               0.0  \n\n[545 rows x 12 columns]",
            "text/html": "<div>\n<style scoped>\n    .dataframe tbody tr th:only-of-type {\n        vertical-align: middle;\n    }\n\n    .dataframe tbody tr th {\n        vertical-align: top;\n    }\n\n    .dataframe thead th {\n        text-align: right;\n    }\n</style>\n<table border=\"1\" class=\"dataframe\">\n  <thead>\n    <tr style=\"text-align: right;\">\n      <th></th>\n      <th>area</th>\n      <th>bedrooms</th>\n      <th>bathrooms</th>\n      <th>stories</th>\n      <th>mainroad</th>\n      <th>guestroom</th>\n      <th>basement</th>\n      <th>hotwaterheating</th>\n      <th>airconditioning</th>\n      <th>parking</th>\n      <th>prefarea</th>\n      <th>furnishingstatus</th>\n    </tr>\n  </thead>\n  <tbody>\n    <tr>\n      <th>0</th>\n      <td>0.396564</td>\n      <td>0.6</td>\n      <td>0.333333</td>\n      <td>0.666667</td>\n      <td>1.0</td>\n      <td>0.0</td>\n      <td>0.0</td>\n      <td>0.0</td>\n      <td>1.0</td>\n      <td>0.666667</td>\n      <td>1.0</td>\n      <td>1.0</td>\n    </tr>\n    <tr>\n      <th>1</th>\n      <td>0.502405</td>\n      <td>0.6</td>\n      <td>1.000000</td>\n      <td>1.000000</td>\n      <td>1.0</td>\n      <td>0.0</td>\n      <td>0.0</td>\n      <td>0.0</td>\n      <td>1.0</td>\n      <td>1.000000</td>\n      <td>0.0</td>\n      <td>1.0</td>\n    </tr>\n    <tr>\n      <th>2</th>\n      <td>0.571134</td>\n      <td>0.4</td>\n      <td>0.333333</td>\n      <td>0.333333</td>\n      <td>1.0</td>\n      <td>0.0</td>\n      <td>1.0</td>\n      <td>0.0</td>\n      <td>0.0</td>\n      <td>0.666667</td>\n      <td>1.0</td>\n      <td>0.5</td>\n    </tr>\n    <tr>\n      <th>3</th>\n      <td>0.402062</td>\n      <td>0.6</td>\n      <td>0.333333</td>\n      <td>0.333333</td>\n      <td>1.0</td>\n      <td>0.0</td>\n      <td>1.0</td>\n      <td>0.0</td>\n      <td>1.0</td>\n      <td>1.000000</td>\n      <td>1.0</td>\n      <td>1.0</td>\n    </tr>\n    <tr>\n      <th>4</th>\n      <td>0.396564</td>\n      <td>0.6</td>\n      <td>0.000000</td>\n      <td>0.333333</td>\n      <td>1.0</td>\n      <td>1.0</td>\n      <td>1.0</td>\n      <td>0.0</td>\n      <td>1.0</td>\n      <td>0.666667</td>\n      <td>0.0</td>\n      <td>1.0</td>\n    </tr>\n    <tr>\n      <th>...</th>\n      <td>...</td>\n      <td>...</td>\n      <td>...</td>\n      <td>...</td>\n      <td>...</td>\n      <td>...</td>\n      <td>...</td>\n      <td>...</td>\n      <td>...</td>\n      <td>...</td>\n      <td>...</td>\n      <td>...</td>\n    </tr>\n    <tr>\n      <th>540</th>\n      <td>0.092784</td>\n      <td>0.2</td>\n      <td>0.000000</td>\n      <td>0.000000</td>\n      <td>1.0</td>\n      <td>0.0</td>\n      <td>1.0</td>\n      <td>0.0</td>\n      <td>0.0</td>\n      <td>0.666667</td>\n      <td>0.0</td>\n      <td>0.0</td>\n    </tr>\n    <tr>\n      <th>541</th>\n      <td>0.051546</td>\n      <td>0.4</td>\n      <td>0.000000</td>\n      <td>0.000000</td>\n      <td>0.0</td>\n      <td>0.0</td>\n      <td>0.0</td>\n      <td>0.0</td>\n      <td>0.0</td>\n      <td>0.000000</td>\n      <td>0.0</td>\n      <td>0.5</td>\n    </tr>\n    <tr>\n      <th>542</th>\n      <td>0.135395</td>\n      <td>0.2</td>\n      <td>0.000000</td>\n      <td>0.000000</td>\n      <td>1.0</td>\n      <td>0.0</td>\n      <td>0.0</td>\n      <td>0.0</td>\n      <td>0.0</td>\n      <td>0.000000</td>\n      <td>0.0</td>\n      <td>0.0</td>\n    </tr>\n    <tr>\n      <th>543</th>\n      <td>0.086598</td>\n      <td>0.4</td>\n      <td>0.000000</td>\n      <td>0.000000</td>\n      <td>0.0</td>\n      <td>0.0</td>\n      <td>0.0</td>\n      <td>0.0</td>\n      <td>0.0</td>\n      <td>0.000000</td>\n      <td>0.0</td>\n      <td>1.0</td>\n    </tr>\n    <tr>\n      <th>544</th>\n      <td>0.151203</td>\n      <td>0.4</td>\n      <td>0.000000</td>\n      <td>0.333333</td>\n      <td>1.0</td>\n      <td>0.0</td>\n      <td>0.0</td>\n      <td>0.0</td>\n      <td>0.0</td>\n      <td>0.000000</td>\n      <td>0.0</td>\n      <td>0.0</td>\n    </tr>\n  </tbody>\n</table>\n<p>545 rows × 12 columns</p>\n</div>"
          },
          "metadata": {}
        }
      ]
    },
    {
      "cell_type": "code",
      "source": "m=(y.shape)[0]\nw=[1]*12\nb=0\npredict=x.dot(w)+b\nprint(predict)\ne=predict-y\nprint(e)\ne=e.dot(e)\nprint(e)\ne=e/(2*m)\nprint(e)\nw_temp=[0]*12\nfor i in range (12):\n    w_temp[i]=w[i]-0.01/m*(predict-y).dot(x.iloc[:,i])\nb_temp=b-0.01/m*(predict-y).sum()\nw=w_temp\nb=b_temp\nprint(w)\nprint(b)",
      "metadata": {
        "trusted": true
      },
      "execution_count": 17,
      "outputs": [
        {
          "name": "stdout",
          "text": "0      6.663230\n1      7.102405\n2      5.804467\n3      7.668729\n4      6.996564\n         ...   \n540    2.959450\n541    0.951546\n542    1.335395\n543    1.486598\n544    1.884536\nLength: 545, dtype: float64\n0      5.663230\n1      6.193315\n2      4.895376\n3      6.762668\n4      6.160200\n         ...   \n540    2.953390\n541    0.950062\n542    1.335395\n543    1.486598\n544    1.884536\nLength: 545, dtype: float64\n7667.32440966488\n7.034242577674202\n[0.9907593324445604, 0.9857343126025411, 0.9957246990758813, 0.9892759482164881, 0.9682627928875438, 0.9908469409502191, 0.9843516926763138, 0.9981062164633185, 0.9854913518126502, 0.9902502843809322, 0.9886277905528376, 0.9812354084577927]\n-0.03416156760186754\n",
          "output_type": "stream"
        }
      ]
    },
    {
      "cell_type": "code",
      "source": "import matplotlib.pyplot as plt\nw=[1]*12\nb=0\nw_temp=[0]*12\nm=(df.shape)[0]\ncost=[]\nepochs=[]\nfor i in range(1000):\n    print(i)\n    predict=x.dot(w)+b\n    e=predict-y\n    e=e.dot(e)\n    e=e/(2*m)\n    print(cost)\n    cost.append(e)\n    epochs.append(i)\n    for i in range(12):\n        w_temp[i]=w[i]-0.01/m*(predict-y).dot(x.iloc[:,i])\n    b_temp=b-0.01/m*(predict-y).sum()\n    w=w_temp\n    b=b_temp\nplt.plot(epochs,cost)\nplt.show()",
      "metadata": {
        "trusted": true
      },
      "execution_count": null,
      "outputs": []
    },
    {
      "cell_type": "code",
      "source": "",
      "metadata": {},
      "execution_count": null,
      "outputs": []
    }
  ]
}